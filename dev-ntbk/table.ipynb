{
 "cells": [
  {
   "cell_type": "code",
   "execution_count": 1,
   "id": "9308174c",
   "metadata": {},
   "outputs": [],
   "source": [
    "import re\n",
    "from pathlib import Path\n",
    "\n",
    "def split_on_numeric(s):\n",
    "    return list(filter(None, re.split(r'(\\d+)', s)))\n",
    "\n",
    "\n",
    "def post_process_name(name):\n",
    "    return name.replace('/', '_').replace('\\\\', '_').strip()\n",
    "\n",
    "\n",
    "def get_name_from_entry(entry):\n",
    "    name = entry.split('\\n')[0].split('{')[-1].split(',')[0]\n",
    "    name = post_process_name(name)\n",
    "    return name\n",
    "\n",
    "\n",
    "def load_bib_entries_from_file(file, unallowed=['abstract', 'keywords', 'numpages', 'series', 'location']):\n",
    "    bib_contents = None\n",
    "    with open(file, 'r') as f:\n",
    "        bib_contents = f.read()\n",
    "\n",
    "    # Each item of this list will be a bibtex entry string\n",
    "    bib_entries = [b.strip() for b in bib_contents.split('\\n\\n')]\n",
    "\n",
    "    processed = []\n",
    "    for entry in bib_entries:\n",
    "        lines = [l for l in entry.split('\\n') if sum([l.strip().lower().startswith(u) for u in unallowed]) == 0]\n",
    "        processed.append('\\n'.join(lines))\n",
    "    bib_entries = processed\n",
    "    bib_entries = {get_name_from_entry(b): b for b in bib_entries}\n",
    "    return bib_entries\n",
    "\n",
    "\n",
    "def write_bib_files(bib_entries, folder):\n",
    "    folder = Path(folder)\n",
    "    if not folder.exists():\n",
    "        folder.mkdir(parents=True)\n",
    "    \n",
    "    for entry in bib_entries.keys():\n",
    "        filepath = folder / Path('{}.tex'.format(entry))\n",
    "        with open(filepath, 'w') as f:\n",
    "            f.write(bib_entries[entry])\n",
    "\n",
    "\n",
    "def create_tooltip_for_bib_entry(key, bib_entries):\n",
    "    assert(key in bib_entries)\n",
    "\n",
    "    bibtex_string = bib_entries[key]\n",
    "    bibtex_string = bibtex_string.strip().replace('\\n', '<br>')\n",
    "\n",
    "    bibtex_filename = 'bibtex/{}.tex'.format(key)\n",
    "\n",
    "    author_name, paper_year = split_on_numeric(key)[1:3]\n",
    "    author_name = author_name.capitalize()\n",
    "    paper_string = '{} ({})'.format(author_name, paper_year)\n",
    "\n",
    "    return '''<p class=\"tooltip\"><a href=\"{}\" class=\"grey-text text-darken-3\">{}</a><span class=\"tooltiptext\">{}</span></p>'''.format(bibtex_filename, paper_string, bibtex_string)"
   ]
  },
  {
   "cell_type": "code",
   "execution_count": 2,
   "id": "d496b577",
   "metadata": {},
   "outputs": [],
   "source": [
    "bib_entries = load_bib_entries_from_file('references_for_tables.bib')\n",
    "write_bib_files(bib_entries, 'bibtex')"
   ]
  },
  {
   "cell_type": "code",
   "execution_count": 3,
   "id": "e5c3989d",
   "metadata": {},
   "outputs": [],
   "source": [
    "def comma_sep_str_to_html(string, bib_entries):\n",
    "    keys = [post_process_name(n.strip()) for n in string.split(',')]\n",
    "    result = \"\"\n",
    "    for index in range(len(keys)):\n",
    "        #print(keys[index] )\n",
    "        assert(keys[index] in bib_entries.keys())\n",
    "        result += create_tooltip_for_bib_entry(keys[index], bib_entries)\n",
    "        if index != len(keys) - 1:\n",
    "            result += \", \"\n",
    "    return result"
   ]
  },
  {
   "cell_type": "code",
   "execution_count": null,
   "id": "74c9c7a3",
   "metadata": {},
   "outputs": [],
   "source": [
    "s = '019zhang2023boss'"
   ]
  },
  {
   "cell_type": "code",
   "execution_count": null,
   "id": "6faa45e1",
   "metadata": {},
   "outputs": [],
   "source": [
    "print(comma_sep_str_to_html(s, bib_entries))"
   ]
  },
  {
   "cell_type": "code",
   "execution_count": null,
   "id": "c3ec44a3",
   "metadata": {},
   "outputs": [],
   "source": []
  }
 ],
 "metadata": {
  "kernelspec": {
   "display_name": "fr_nav_ros",
   "language": "python",
   "name": "python3"
  },
  "language_info": {
   "codemirror_mode": {
    "name": "ipython",
    "version": 3
   },
   "file_extension": ".py",
   "mimetype": "text/x-python",
   "name": "python",
   "nbconvert_exporter": "python",
   "pygments_lexer": "ipython3",
   "version": "3.8.10"
  }
 },
 "nbformat": 4,
 "nbformat_minor": 5
}
